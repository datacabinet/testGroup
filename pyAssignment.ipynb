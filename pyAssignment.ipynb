{
 "cells": [
  {
   "cell_type": "markdown",
   "metadata": {
    "deletable": false,
    "editable": false,
    "nbgrader": {
     "cell_type": "markdown",
     "checksum": "fa719b4532468c48dedcb78dcf216b1a",
     "grade": false,
     "grade_id": "cell-022fc04b9511fedb",
     "locked": true,
     "schema_version": 2,
     "solution": false
    }
   },
   "source": [
    "# Basic Python assignment"
   ]
  },
  {
   "cell_type": "markdown",
   "metadata": {
    "deletable": false,
    "editable": false,
    "nbgrader": {
     "cell_type": "markdown",
     "checksum": "e476a56e02ffeb8bc530830e91c7ab01",
     "grade": false,
     "grade_id": "cell-3c5d8f9565cbf93c",
     "locked": true,
     "schema_version": 2,
     "solution": false
    }
   },
   "source": [
    "## Write code to sum all elements of a list"
   ]
  },
  {
   "cell_type": "code",
   "execution_count": null,
   "metadata": {
    "deletable": false,
    "nbgrader": {
     "cell_type": "code",
     "checksum": "1e674c845f3cdc5ca7d005852d407cd7",
     "grade": false,
     "grade_id": "cell-336655a6e374838c",
     "locked": false,
     "schema_version": 2,
     "solution": true
    }
   },
   "outputs": [],
   "source": [
    "def sumList(lst):\n",
    "    # YOUR CODE HERE\n",
    "    return sum(lst)"
   ]
  },
  {
   "cell_type": "code",
   "execution_count": null,
   "metadata": {
    "deletable": false,
    "editable": false,
    "nbgrader": {
     "cell_type": "code",
     "checksum": "203b68fae580e51528ce88d9f5f8dbd6",
     "grade": true,
     "grade_id": "cell-38e3a2715d4a9712",
     "locked": true,
     "points": 5,
     "schema_version": 2,
     "solution": false
    }
   },
   "outputs": [],
   "source": [
    "lst = []\n",
    "with open(\"/mnt/nfs/dcdemo110@gmail.com/share/testcase.txt\") as file:\n",
    "    for line in file:\n",
    "        line = line.strip() #preprocess line\n",
    "        lst.append(int(line))\n",
    "assert(sumList(lst[:-1]) == lst[-1])"
   ]
  },
  {
   "cell_type": "markdown",
   "metadata": {
    "deletable": false,
    "editable": false,
    "nbgrader": {
     "cell_type": "markdown",
     "checksum": "89792a5b039017ac086760f9c15fc74b",
     "grade": false,
     "grade_id": "cell-1386ad2e83ab1cc9",
     "locked": true,
     "schema_version": 2,
     "solution": false
    }
   },
   "source": [
    "# Plot a graph using matplotlib showing how a normal(0,1) looks like"
   ]
  },
  {
   "cell_type": "code",
   "execution_count": null,
   "metadata": {
    "deletable": false,
    "nbgrader": {
     "cell_type": "code",
     "checksum": "4969b5bcee8c43db0e146d0f19f2ac48",
     "grade": true,
     "grade_id": "cell-d662ec1f00f9bb61",
     "locked": false,
     "points": 10,
     "schema_version": 2,
     "solution": true
    }
   },
   "outputs": [],
   "source": [
    "import matplotlib.pyplot as plt\n",
    "import numpy as np\n",
    "import matplotlib.mlab as mlab\n",
    "import math\n",
    "%matplotlib inline\n",
    "mu = 0\n",
    "variance = 1\n",
    "sigma = 1\n",
    "\n",
    "x = np.linspace(mu - sigma, mu + sigma, 100)\n",
    "plt.plot(x,mlab.normpdf(x, mu, sigma))\n",
    "plt.show()"
   ]
  }
 ],
 "metadata": {
  "kernelspec": {
   "display_name": "videoDemo",
   "language": "python",
   "name": "videodemo"
  },
  "language_info": {
   "codemirror_mode": {
    "name": "ipython",
    "version": 3
   },
   "file_extension": ".py",
   "mimetype": "text/x-python",
   "name": "python",
   "nbconvert_exporter": "python",
   "pygments_lexer": "ipython3",
   "version": "3.5.4"
  }
 },
 "nbformat": 4,
 "nbformat_minor": 2
}
